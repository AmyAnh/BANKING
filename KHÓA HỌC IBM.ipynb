{
 "cells": [
  {
   "cell_type": "code",
   "execution_count": 1,
   "id": "0a41d177-9ff7-4691-967f-39cda6ff51f5",
   "metadata": {},
   "outputs": [
    {
     "name": "stdout",
     "output_type": "stream",
     "text": [
      "Hello\n",
      "World!\n"
     ]
    }
   ],
   "source": [
    "print(\"Hello\\nWorld!\")"
   ]
  },
  {
   "cell_type": "code",
   "execution_count": 1,
   "id": "1660298e-d8d1-4566-83e8-5f7e421d4e30",
   "metadata": {},
   "outputs": [
    {
     "name": "stdout",
     "output_type": "stream",
     "text": [
      "Li\n"
     ]
    }
   ],
   "source": [
    "name = 'Lizz'\n",
    "print(name[0:2])"
   ]
  },
  {
   "cell_type": "code",
   "execution_count": 2,
   "id": "c75eff5d-9ee5-402c-8d8c-a25879d422a6",
   "metadata": {},
   "outputs": [
    {
     "name": "stdout",
     "output_type": "stream",
     "text": [
      "0246\n"
     ]
    }
   ],
   "source": [
    "var = '01234567'\n",
    "print(var[::2])"
   ]
  },
  {
   "cell_type": "code",
   "execution_count": 4,
   "id": "014ec87a-7998-4b81-be86-ab368c3ec076",
   "metadata": {},
   "outputs": [
    {
     "name": "stdout",
     "output_type": "stream",
     "text": [
      "3\n"
     ]
    }
   ],
   "source": [
    "A=(0,1,2,3)\n",
    "print(A[-1])"
   ]
  },
  {
   "cell_type": "code",
   "execution_count": 6,
   "id": "93a28957-5100-4eec-bc2c-7621f52cd887",
   "metadata": {},
   "outputs": [
    {
     "name": "stdout",
     "output_type": "stream",
     "text": [
      "3\n"
     ]
    }
   ],
   "source": [
    "print(A[3])"
   ]
  },
  {
   "cell_type": "code",
   "execution_count": 7,
   "id": "fa9efe47-07e7-4526-b80f-7d16c342d5a2",
   "metadata": {},
   "outputs": [
    {
     "data": {
      "text/plain": [
       "['b', 'c']"
      ]
     },
     "execution_count": 7,
     "metadata": {},
     "output_type": "execute_result"
    }
   ],
   "source": [
    "B=[\"a\",\"b\",\"c\"]\n",
    "B[1:]"
   ]
  },
  {
   "cell_type": "code",
   "execution_count": 28,
   "id": "e62ea061-a0f3-4a60-a0f1-3098175f716f",
   "metadata": {},
   "outputs": [
    {
     "name": "stdout",
     "output_type": "stream",
     "text": [
      "1361\n"
     ]
    }
   ],
   "source": [
    "a = \"\"\"In this video, we will cover lists and tuples. These are called compound data types and are\n",
    "one of the key types of data structures in Python.\n",
    "Tuples Tuples are an ordered sequence.\n",
    "Here is a Tuple “Ratings.”\n",
    "Tuples are expressed as comma-separated elements within parentheses.\n",
    "These are values inside the parentheses.\n",
    "In Python, there are different types: strings, integer, float.\n",
    "They can all be contained in a tuple, but the type of the variable is tuple.\n",
    "Each element of a tuple can be accessed via an index.\n",
    "The following table represents the relationship between the index and the elements in the\n",
    "tuple.\n",
    "The first element can be accessed by the name of the tuple followed by a square bracket\n",
    "with the index number, in this case, zero.\n",
    "We can access the second element as follows.\n",
    "We can also access the last element.\n",
    "In Python, we can use negative index.\n",
    "The relationship is as follows.\n",
    "The corresponding values are shown here.\n",
    "We can concatenate or combine tuples by adding them.\n",
    "The result is the following with the following index.\n",
    "If we would like multiple elements from a tuple, we could also slice tuples.\n",
    "For example, if we want the first three elements, we use the following command.\n",
    "The last index is 1 larger than the index you want.\n",
    "Similarly, if we want the last two elements, we use the following command.\n",
    "Notice how the last index is 1 larger than the length of the tuple.\n",
    "We can use the “len” command to obtain the length of a tuple.\n",
    "As there are 5 elements, the result is five.\n",
    "Tuples are immutable, which means we can't change them.\n",
    "To see why this is important, let's see what happens when we set the variable Ratings 1\n",
    "to ratings.\n",
    "Let's use the image to provide a simplified explanation of what’s going on.\n",
    "Each variable does not contain a tuple, but references the same immutable tuple object.\n",
    "See the ‘objects and classes’ module for more about objects.\n",
    "Let's say we want to change the element at index 2.\n",
    "Because tuples are immutable, we can't.\n",
    "Therefore, Ratings 1 will not be affected by a change in Rating because the tuple is\n",
    "immutable i.e., we can't change it.\n",
    "We can assign a different tuple to the Ratings variable.\n",
    "The variable Ratings now references another tuple.\n",
    "As a consequence of immutability, if we would like to manipulate a tuple, we must create\n",
    "a new tuple instead.\n",
    "For example, if we would like to sort a tuple, we use the function sorted.\n",
    "The input is the original tuple.\n",
    "The output is a new sorted tuple.\n",
    "For more on functions, see our video on functions.\n",
    "A tuple can contain other tuples as well as other complex data types; this is called nesting.\n",
    "We can access these elements using the standard indexing methods.\n",
    "If we select an index with a tuple, the same index convention applies.\n",
    "As such, we can then access values in the tuple.\n",
    "For example, we could access the second element.\n",
    "We can apply this indexing directly to the tuple variable NT.\n",
    "It is helpful to visualize this as a tree.\n",
    "We can visualize this nesting as a tree.\n",
    "The tuple has the following indexes.\n",
    "If we consider indexes with other tuples, we see the tuple at index 2 contains a tuple\n",
    "with two elements.\n",
    "We can access those two indexes.\n",
    "The same convention applies to index 3.\n",
    "We can access the elements in those tuples as well.\n",
    "We can continue the process.\n",
    "We can even access deeper levels of the tree by adding another square bracket.\n",
    "We can access different characters in the string or various elements in the second tuple\n",
    "contained in the first.\n",
    "Lists are also a popular data structure in Python.\n",
    "Lists are also an ordered sequence.\n",
    "Here is a list L. A list is represented with square brackets.\n",
    "In many respects lists are like tuples, one key difference is they are mutable.\n",
    "Lists can contain strings, floats, integers.\n",
    "We can nest other lists.\n",
    "We also nest tuples and other data structures; the same indexing conventions apply for nesting.\n",
    "Like tuples, each element of a list can be accessed via an index.\n",
    "The following table represents the relationship between the index and the elements in the\n",
    "list.\n",
    "The first element can be accessed by the name of the list followed by a square bracket with\n",
    "the index number, in this case zero.\n",
    "We can access the second element as follows.\n",
    "We can also access the last element.\n",
    "In Python, we can use a negative index.\n",
    "The relationship is as follows.\n",
    "The corresponding indexes are as follows.\n",
    "We can also perform slicing in lists.\n",
    "For example, if we want the last two elements in this list we use the following command.\n",
    "Notice how the last index is 1 larger than the length of the list.\n",
    "The index conventions for lists and tuples are identical.\n",
    "Check the labs for more examples.\n",
    "We can concatenate or combine lists by adding them.\n",
    "The result is the following.\n",
    "The new list has the following indices.\n",
    "Lists are mutable, therefore, we can change them.\n",
    "For example, we apply the method extends by adding a \"dot\" followed by the name of the\n",
    "method, then parenthesis.\n",
    "The argument inside the parenthesis is a new list that we are going to concatenate to the\n",
    "original list.\n",
    "In this case, instead of creating a new list, L1, the original list L is modified by adding\n",
    "two new elements.\n",
    "To learn more about methods check out our video on objects and classes.\n",
    "Another similar method is append.\n",
    "If we apply append instead of extended we add one element to the list.\n",
    "If we look at the index, there is only one more element.\n",
    "Index 3 contains the list we appended.\n",
    "Every time we apply a method, the lists changes.\n",
    "If we apply extend, we add two new elements to the list.\n",
    "The list L is modified by adding two new elements.\n",
    "If we append the string “A“, we further change the list adding the string “A”.\n",
    "As lists are mutable, we can change them.\n",
    "For example, we can change the first element as follows.\n",
    "The list now becomes: “hard rock”, 10, 1.2.\n",
    "We can delete an element of a list using the \"del\" command; we simply indicate the list\n",
    "item we would like to remove as an argument.\n",
    "For example, if we would like to remove the first element, the result becomes 10,1.2.\n",
    "We can delete the second element.\n",
    "This operation removes the second element of the list.\n",
    "We can convert a string to a list using split.\n",
    "For example, the method split converts every group of characters separated by a space into\n",
    "an element of a list.\n",
    "We can use the split function to separate strings on a specific character, known as\n",
    "a delimiter.\n",
    "We simply pass the delimiter we would like to split on as an argument, in this case a\n",
    "comma.\n",
    "The result is a list, each element corresponds to a set of characters that have been separated\n",
    "by a comma.\n",
    "When we set one variable, B equal to A, both A and B are referencing the same list.\n",
    "Multiple names referring to the same object is known as aliasing.\n",
    "We know from the last slide that the first element in B is set as hard rock.\n",
    "If we change the first element in “A” to “banana” we get a side effect; the\n",
    "value of B will change as a consequence.\n",
    "\"A\" and “B” are referencing the same list, therefore if we change \"A“, list \"B\" also\n",
    "changes.\n",
    "If we check the first element of B after changing list ”A” we get banana instead of hard\n",
    "rock.\n",
    "You can clone list “A” by using the following syntax.\n",
    "Variable \"A\" references one list.\n",
    "Variable “B” references a new copy or clone of the original list.\n",
    "Now if you change “A”, \"B\" will not change.\n",
    "We can get more info on lists, tuples and many other objects in Python using the help\n",
    "command.\n",
    "Simply pass in the list, tuple or any other Python object.\n",
    "See the labs for more things you can do with lists.\"\"\"\n",
    "# words = a.split()\n",
    "# num_words = len(words)\n",
    "# print(\"Số từ trong đoạn văn là:\", num_words)\n",
    "print(len(a.split()))"
   ]
  },
  {
   "cell_type": "code",
   "execution_count": 25,
   "id": "b9bb5b59-818b-4a3c-a127-283a009f5375",
   "metadata": {},
   "outputs": [],
   "source": [
    "length = len(a)"
   ]
  },
  {
   "cell_type": "code",
   "execution_count": 29,
   "id": "a3e22c8d-e5a9-409a-a728-f3dc8f19537a",
   "metadata": {},
   "outputs": [
    {
     "name": "stdout",
     "output_type": "stream",
     "text": [
      "Số ký tự trong đoạn văn là: 7489\n"
     ]
    }
   ],
   "source": [
    "num_characters = len(a)\n",
    "print(\"Số ký tự trong đoạn văn là:\", num_characters)"
   ]
  },
  {
   "cell_type": "code",
   "execution_count": 30,
   "id": "32344713-30a1-4511-8bcb-be912cea98c6",
   "metadata": {},
   "outputs": [
    {
     "data": {
      "text/plain": [
       "7489"
      ]
     },
     "execution_count": 30,
     "metadata": {},
     "output_type": "execute_result"
    }
   ],
   "source": [
    "len(a)"
   ]
  },
  {
   "cell_type": "code",
   "execution_count": 49,
   "id": "f5035699-b096-4d65-8265-bda092f10c73",
   "metadata": {},
   "outputs": [
    {
     "name": "stdout",
     "output_type": "stream",
     "text": [
      "0,1.2.\n",
      "We can delete the second element.\n",
      "This operation removes the second element of the list.\n",
      "We can convert a string to a list using split.\n",
      "For example, the method split converts every group of characters separated by a space into\n",
      "an element of a list.\n",
      "We can use the split function to separate strings on a specific character, known as\n",
      "a delimiter.\n",
      "We simply pass the delimiter we would like to split on as an argument, in this case a\n",
      "comma.\n",
      "The result is a list, each element corresponds to a set of characters that have been separated\n",
      "by a comma.\n",
      "When we set one variable, B equal to A, both A and B are referencing the same list.\n",
      "Multiple names referring to the same object is known as aliasing.\n",
      "We know from the last slide that the first element in B is set as hard rock.\n",
      "If we change the first element in “A” to “banana” we get a side effect; the\n",
      "value of B will change as a consequence.\n",
      "\"A\" and “B” are referencing the same list, therefore if we change \"A“, list \"B\" also\n",
      "changes.\n",
      "If we check the first element of B after changing list ”A” we get banana instead of hard\n",
      "rock.\n",
      "You can clone list “A” by using the following syntax.\n",
      "Variable \"A\" references one list.\n",
      "Variable “B” references a new copy or clone of the original list.\n",
      "Now if you change “A”, \"B\" will not change.\n",
      "We can get more info on lists, tuples and many other objects in Python using the help\n",
      "command.\n",
      "Simply pass in the list, tuple or any other Python object.\n",
      "See the labs for more things you can do with lists\n"
     ]
    }
   ],
   "source": [
    "b = a[0:2000]\n",
    "c = a[2000:4000]\n",
    "d = a[4000:6000]\n",
    "e = a[6000:-1]\n",
    "print(e)"
   ]
  },
  {
   "cell_type": "code",
   "execution_count": 51,
   "id": "a35dead1-ef0d-4765-8295-c6ce80c03608",
   "metadata": {},
   "outputs": [
    {
     "data": {
      "text/plain": [
       "[-5, -3, 1]"
      ]
     },
     "execution_count": 51,
     "metadata": {},
     "output_type": "execute_result"
    }
   ],
   "source": [
    "C_tuple=(-5, 1, -3)\n",
    "a = sorted(C_tuple)\n",
    "a"
   ]
  },
  {
   "cell_type": "code",
   "execution_count": 52,
   "id": "90191e69-1fbd-4318-95b4-afad75b944fd",
   "metadata": {},
   "outputs": [
    {
     "data": {
      "text/plain": [
       "[-5, -3, 1]"
      ]
     },
     "execution_count": 52,
     "metadata": {},
     "output_type": "execute_result"
    }
   ],
   "source": [
    "C_tuple=(-5, 1, -3)\n",
    "b = sorted(C_tuple)\n",
    "b"
   ]
  },
  {
   "cell_type": "code",
   "execution_count": 53,
   "id": "0147615c-16f2-4d09-92d1-fcb027c2f71e",
   "metadata": {},
   "outputs": [
    {
     "data": {
      "text/plain": [
       "[0, 2, 5, 6, 6, 8, 9, 9, 10]"
      ]
     },
     "execution_count": 53,
     "metadata": {},
     "output_type": "execute_result"
    }
   ],
   "source": [
    "Ratings = (0, 9, 6, 5, 10, 8, 9, 6, 2)\n",
    "RatingsSorted = sorted(Ratings)\n",
    "RatingsSorted"
   ]
  },
  {
   "cell_type": "code",
   "execution_count": 54,
   "id": "53ab3c74-a5eb-4d22-a65e-1a0451fa3429",
   "metadata": {},
   "outputs": [
    {
     "data": {
      "text/plain": [
       "3"
      ]
     },
     "execution_count": 54,
     "metadata": {},
     "output_type": "execute_result"
    }
   ],
   "source": [
    "tuple1 = (\"disco\",10,1.2 )\n",
    "len(tuple1)"
   ]
  },
  {
   "cell_type": "code",
   "execution_count": 55,
   "id": "39cde60c-2e8f-4172-a311-d6e0553d1ec7",
   "metadata": {},
   "outputs": [
    {
     "data": {
      "text/plain": [
       "'disco'"
      ]
     },
     "execution_count": 55,
     "metadata": {},
     "output_type": "execute_result"
    }
   ],
   "source": [
    "tuple1[0]"
   ]
  },
  {
   "cell_type": "code",
   "execution_count": 56,
   "id": "0078a06b-4e9f-42d5-ae6c-75a51d3c2ae9",
   "metadata": {},
   "outputs": [
    {
     "data": {
      "text/plain": [
       "'i'"
      ]
     },
     "execution_count": 56,
     "metadata": {},
     "output_type": "execute_result"
    }
   ],
   "source": [
    "tuple1[0][1]"
   ]
  },
  {
   "cell_type": "code",
   "execution_count": 61,
   "id": "1f7d9739-050f-4617-84de-0a2a5ebf283e",
   "metadata": {},
   "outputs": [
    {
     "name": "stdout",
     "output_type": "stream",
     "text": [
      "['h', 'a', 'r', 'd']\n"
     ]
    }
   ],
   "source": [
    "t = list('hard')\n",
    "print(t)"
   ]
  },
  {
   "cell_type": "code",
   "execution_count": 62,
   "id": "5f6d6c04-c9ac-4845-b35b-114ec38149a2",
   "metadata": {},
   "outputs": [
    {
     "data": {
      "text/plain": [
       "['h', 'a', 'r', 'd']"
      ]
     },
     "execution_count": 62,
     "metadata": {},
     "output_type": "execute_result"
    }
   ],
   "source": [
    "list('hard')"
   ]
  },
  {
   "cell_type": "code",
   "execution_count": 63,
   "id": "08b028c4-c9ba-4102-843e-ba7671175e7f",
   "metadata": {},
   "outputs": [
    {
     "data": {
      "text/plain": [
       "['b', 'c']"
      ]
     },
     "execution_count": 63,
     "metadata": {},
     "output_type": "execute_result"
    }
   ],
   "source": [
    "A=[\"a\",\"b\",\"c\"]\n",
    "A[1:]"
   ]
  },
  {
   "cell_type": "code",
   "execution_count": 89,
   "id": "73a62e87-854c-4dc3-a786-4e871817f12d",
   "metadata": {},
   "outputs": [],
   "source": [
    "Animals = [\"lion\", \"giraffe\", \"gorilla\", \"parrots\", \"crocodile\",\"deer\", \"swan\"]\n",
    "New = []\n",
    "i=0\n",
    "while (i<len(Animals) and (len(Animals[i])) == 7):\n",
    "    print(Animals[i])\n",
    "    "
   ]
  },
  {
   "cell_type": "code",
   "execution_count": 87,
   "id": "b8f44907-9062-4fc5-b8fa-cee44bf82bb3",
   "metadata": {},
   "outputs": [
    {
     "data": {
      "text/plain": [
       "4"
      ]
     },
     "execution_count": 87,
     "metadata": {},
     "output_type": "execute_result"
    }
   ],
   "source": [
    "Animals = [\"lion\", \"giraffe\", \"gorilla\", \"parrots\", \"crocodile\",\"deer\", \"swan\"]\n",
    "len(Animals[i])"
   ]
  },
  {
   "cell_type": "code",
   "execution_count": 91,
   "id": "1f454937-9439-4dac-a4f5-05165984f801",
   "metadata": {},
   "outputs": [
    {
     "name": "stdout",
     "output_type": "stream",
     "text": [
      "['giraffe', 'gorilla', 'parrots']\n"
     ]
    }
   ],
   "source": [
    "Animals = [\"lion\", \"giraffe\", \"gorilla\", \"parrots\", \"crocodile\",\"deer\", \"swan\"]\n",
    "new = []\n",
    "i = 0\n",
    "while i < len(Animals):\n",
    "    j = Animals[i]\n",
    "    if len(j) == 7:\n",
    "        new.append(j)\n",
    "    i = i + 1\n",
    "print(new)"
   ]
  },
  {
   "cell_type": "code",
   "execution_count": 94,
   "id": "9d202518-e13d-4d16-8b4d-ba916f9e1d2d",
   "metadata": {},
   "outputs": [
    {
     "ename": "IndentationError",
     "evalue": "expected an indented block after function definition on line 2 (3641322190.py, line 3)",
     "output_type": "error",
     "traceback": [
      "\u001b[1;36m  Cell \u001b[1;32mIn[94], line 3\u001b[1;36m\u001b[0m\n\u001b[1;33m    return a+b\u001b[0m\n\u001b[1;37m    ^\u001b[0m\n\u001b[1;31mIndentationError\u001b[0m\u001b[1;31m:\u001b[0m expected an indented block after function definition on line 2\n"
     ]
    }
   ],
   "source": [
    "a=1\n",
    "def add(b):\n",
    "return a+b\n",
    "c=add(10)\n",
    "print(c)"
   ]
  },
  {
   "cell_type": "code",
   "execution_count": 95,
   "id": "1f5f4d14-ad35-4723-890e-edfb8f6f09a2",
   "metadata": {},
   "outputs": [
    {
     "name": "stdout",
     "output_type": "stream",
     "text": [
      "Xin chào! Chào mừng bạn đến với Python.\n"
     ]
    }
   ],
   "source": [
    "def chao_mung():\n",
    "    \"\"\"Hàm này in ra một lời chào.\"\"\"\n",
    "    print(\"Xin chào! Chào mừng bạn đến với Python.\")\n",
    "\n",
    "# Gọi hàm\n",
    "chao_mung()\n"
   ]
  },
  {
   "cell_type": "code",
   "execution_count": 96,
   "id": "fde28296-5b1c-4119-96d4-9202aa8caeb4",
   "metadata": {},
   "outputs": [
    {
     "name": "stdout",
     "output_type": "stream",
     "text": [
      "Tổng là: 12\n"
     ]
    }
   ],
   "source": [
    "def tinh_tong(a, b):\n",
    "    \"\"\"Hàm này nhận hai tham số và trả về tổng của chúng.\"\"\"\n",
    "    tong = a + b\n",
    "    return tong\n",
    "\n",
    "# Gọi hàm và in kết quả\n",
    "ket_qua = tinh_tong(5, 7)\n",
    "print(\"Tổng là:\", ket_qua)\n"
   ]
  },
  {
   "cell_type": "code",
   "execution_count": 97,
   "id": "153506f0-8f2e-4edb-a2e0-bc2aeb2797d3",
   "metadata": {},
   "outputs": [
    {
     "name": "stdout",
     "output_type": "stream",
     "text": [
      "Xin chào, An!\n"
     ]
    }
   ],
   "source": [
    "def chao_nguoi_dung(ten):\n",
    "    \"\"\"Hàm này nhận một tham số tên và in ra lời chào với tên đó.\"\"\"\n",
    "    print(f\"Xin chào, {ten}!\")\n",
    "\n",
    "# Gọi hàm\n",
    "chao_nguoi_dung(\"An\")\n"
   ]
  },
  {
   "cell_type": "code",
   "execution_count": 100,
   "id": "5bf3eeb9-0e37-4de4-833b-d5553aec12ab",
   "metadata": {},
   "outputs": [
    {
     "name": "stdout",
     "output_type": "stream",
     "text": [
      "Xin chào, An!\n",
      "Xin chào, bạn!\n"
     ]
    }
   ],
   "source": [
    "def chao_nguoi_dung(ten=\"bạn\"):\n",
    "    \"\"\"Hàm này nhận một tham số tên và in ra lời chào với tên đó. Nếu không có tên, mặc định là 'bạn'.\"\"\"\n",
    "    print(f\"Xin chào, {ten}!\")\n",
    "\n",
    "# Gọi hàm với và không với tham số\n",
    "chao_nguoi_dung(\"An\")\n",
    "chao_nguoi_dung()"
   ]
  },
  {
   "cell_type": "code",
   "execution_count": 107,
   "id": "52182487-973e-4ba6-af86-97b4235b2c5b",
   "metadata": {},
   "outputs": [
    {
     "name": "stdout",
     "output_type": "stream",
     "text": [
      "Tích là: 50\n",
      "Hiệu là: 5\n"
     ]
    }
   ],
   "source": [
    "def tinh_tich_va_hieu(a, b):\n",
    "    \"\"\"Hàm này nhận hai tham số và trả về tích và hiệu của chúng.\"\"\"\n",
    "    tich = a * b\n",
    "    hieu = a - b\n",
    "    return tich, hieu\n",
    "\n",
    "# Gọi hàm và lưu trữ kết quả\n",
    "ket_qua_tich, ket_qua_hieu = tinh_tich_va_hieu(10, 5)\n",
    "print(\"Tích là:\", ket_qua_tich)\n",
    "print(\"Hiệu là:\", ket_qua_hieu)"
   ]
  },
  {
   "cell_type": "code",
   "execution_count": 108,
   "id": "b5590c27-6a48-4805-b44a-65bf9e4d288c",
   "metadata": {},
   "outputs": [
    {
     "ename": "IndentationError",
     "evalue": "expected an indented block after function definition on line 1 (4262559126.py, line 3)",
     "output_type": "error",
     "traceback": [
      "\u001b[1;36m  Cell \u001b[1;32mIn[108], line 3\u001b[1;36m\u001b[0m\n\u001b[1;33m    return sum(x)\u001b[0m\n\u001b[1;37m    ^\u001b[0m\n\u001b[1;31mIndentationError\u001b[0m\u001b[1;31m:\u001b[0m expected an indented block after function definition on line 1\n"
     ]
    }
   ],
   "source": [
    "def f(*x):\n",
    "\n",
    "return sum(x)"
   ]
  },
  {
   "cell_type": "code",
   "execution_count": 110,
   "id": "faf01fe5-caf3-4ff3-99c1-7c8ccbf314f9",
   "metadata": {},
   "outputs": [
    {
     "ename": "TypeError",
     "evalue": "type 'range' is not subscriptable",
     "output_type": "error",
     "traceback": [
      "\u001b[1;31m---------------------------------------------------------------------------\u001b[0m",
      "\u001b[1;31mTypeError\u001b[0m                                 Traceback (most recent call last)",
      "Cell \u001b[1;32mIn[110], line 1\u001b[0m\n\u001b[1;32m----> 1\u001b[0m A \u001b[38;5;241m=\u001b[39m \u001b[38;5;28mrange\u001b[39m[\u001b[38;5;241m1\u001b[39m,\u001b[38;5;241m100\u001b[39m]\n\u001b[0;32m      2\u001b[0m \u001b[38;5;28mprint\u001b[39m(A)\n",
      "\u001b[1;31mTypeError\u001b[0m: type 'range' is not subscriptable"
     ]
    }
   ],
   "source": [
    "A = range[1,100]\n",
    "print(A)"
   ]
  },
  {
   "cell_type": "code",
   "execution_count": 111,
   "id": "58691105-d71c-4197-b19a-9710ac910283",
   "metadata": {},
   "outputs": [
    {
     "ename": "SyntaxError",
     "evalue": "incomplete input (691488725.py, line 3)",
     "output_type": "error",
     "traceback": [
      "\u001b[1;36m  Cell \u001b[1;32mIn[111], line 3\u001b[1;36m\u001b[0m\n\u001b[1;33m    for i,s in enumerate(range(1,100)):\u001b[0m\n\u001b[1;37m                                       ^\u001b[0m\n\u001b[1;31mSyntaxError\u001b[0m\u001b[1;31m:\u001b[0m incomplete input\n"
     ]
    }
   ],
   "source": [
    "def danhsachcham(i,list):\n",
    "    \n",
    "while i,s in enumerate(range(1,100):\n",
    "    i = 1\n",
    "    s = 1\n",
    "    if i%/s == 0:\n",
    "        L1.append(i)\n",
    "        print(L1)\n",
    "    s = s + 1\n",
    "print\n",
    "\n",
    "    \n",
    "\n",
    "        "
   ]
  },
  {
   "cell_type": "code",
   "execution_count": 112,
   "id": "5561d4b4-a5ba-4d25-adc3-6a3231f70540",
   "metadata": {},
   "outputs": [
    {
     "name": "stdout",
     "output_type": "stream",
     "text": [
      "[1, 4, 9, 16, 25, 36, 49, 64, 81, 100]\n"
     ]
    }
   ],
   "source": [
    "# Khởi tạo trạng thái ban đầu của các tủ (False là đóng, True là mở)\n",
    "tu_trang_thai = [False] * 101\n",
    "\n",
    "# Đổi trạng thái các tủ\n",
    "for nguoi in range(1, 101):\n",
    "    for tu in range(nguoi, 101, nguoi):\n",
    "        tu_trang_thai[tu] = not tu_trang_thai[tu]\n",
    "\n",
    "# In ra các tủ đang mở\n",
    "mo_cua = [tu for tu in range(1, 101) if tu_trang_thai[tu]]\n",
    "print(mo_cua)"
   ]
  },
  {
   "cell_type": "code",
   "execution_count": 2,
   "id": "9a8e5186-3667-4119-9526-ef0b3ad4f00d",
   "metadata": {},
   "outputs": [
    {
     "name": "stdout",
     "output_type": "stream",
     "text": [
      "[1, 4, 9, 16, 25, 36, 49, 64, 81, 100]\n"
     ]
    }
   ],
   "source": [
    "# false là đóng, true là mở\n",
    "tu_trang_thai = [False]*101\n",
    "for nguoi in range(1,101):\n",
    "    for tu in range(nguoi,101,nguoi):\n",
    "        tu_trang_thai[tu] = not tu_trang_thai[tu]\n",
    "mo_cua = [tu for tu in range(1,101) if tu_trang_thai[tu]]\n",
    "print(mo_cua)"
   ]
  },
  {
   "cell_type": "code",
   "execution_count": 3,
   "id": "16cec993-1834-49d3-a331-24f69453c2a0",
   "metadata": {},
   "outputs": [],
   "source": [
    "def f(a,b):\n",
    "    \n",
    "    return a*b"
   ]
  },
  {
   "cell_type": "code",
   "execution_count": 4,
   "id": "1b707ac8-f53e-499e-954d-c03363602e38",
   "metadata": {},
   "outputs": [
    {
     "name": "stdout",
     "output_type": "stream",
     "text": [
      "24\n"
     ]
    }
   ],
   "source": [
    "def Mult(a, b):\n",
    "    c = a * b\n",
    "    return(c)\n",
    "    print('This is not printed')\n",
    "    \n",
    "result = Mult(12,2)\n",
    "print(result)"
   ]
  },
  {
   "cell_type": "code",
   "execution_count": 5,
   "id": "89649648-cafa-42e1-9f78-1bc3248e3d17",
   "metadata": {},
   "outputs": [
    {
     "data": {
      "text/plain": [
       "6"
      ]
     },
     "execution_count": 5,
     "metadata": {},
     "output_type": "execute_result"
    }
   ],
   "source": [
    "Mult(2, 3)"
   ]
  },
  {
   "cell_type": "code",
   "execution_count": 6,
   "id": "d0aa8210-65d4-437b-b6d9-139db1aa3826",
   "metadata": {},
   "outputs": [
    {
     "data": {
      "text/plain": [
       "31.400000000000002"
      ]
     },
     "execution_count": 6,
     "metadata": {},
     "output_type": "execute_result"
    }
   ],
   "source": [
    "Mult(10.0, 3.14)"
   ]
  },
  {
   "cell_type": "code",
   "execution_count": 7,
   "id": "fc3ceab4-19f8-41e7-a5ac-8164c728860f",
   "metadata": {},
   "outputs": [
    {
     "data": {
      "text/plain": [
       "'Michael Jackson Michael Jackson '"
      ]
     },
     "execution_count": 7,
     "metadata": {},
     "output_type": "execute_result"
    }
   ],
   "source": [
    "Mult(2, \"Michael Jackson \")"
   ]
  },
  {
   "cell_type": "code",
   "execution_count": 8,
   "id": "2abbf393-9a64-47c5-832a-7bd0a57982eb",
   "metadata": {},
   "outputs": [],
   "source": [
    "def square(a):\n",
    "    \n",
    "    # Local variable b\n",
    "    b = 1\n",
    "    c = a * a + b\n",
    "    print(a, \"if you square + 1\", c) \n",
    "    return(c)"
   ]
  },
  {
   "cell_type": "code",
   "execution_count": 9,
   "id": "a7c5cad5-b501-4fb9-b56f-8dee9bfafefc",
   "metadata": {},
   "outputs": [
    {
     "name": "stdout",
     "output_type": "stream",
     "text": [
      "3 if you square + 1 10\n"
     ]
    },
    {
     "data": {
      "text/plain": [
       "10"
      ]
     },
     "execution_count": 9,
     "metadata": {},
     "output_type": "execute_result"
    }
   ],
   "source": [
    "# Initializes Global variable  \n",
    "\n",
    "x = 3\n",
    "# Makes function call and return function a y\n",
    "y = square(x)\n",
    "y"
   ]
  },
  {
   "cell_type": "code",
   "execution_count": 10,
   "id": "c4824df5-fc7e-45ba-b4c8-5129a9e081c8",
   "metadata": {},
   "outputs": [
    {
     "name": "stdout",
     "output_type": "stream",
     "text": [
      "2 if you square + 1 5\n"
     ]
    },
    {
     "data": {
      "text/plain": [
       "5"
      ]
     },
     "execution_count": 10,
     "metadata": {},
     "output_type": "execute_result"
    }
   ],
   "source": [
    "square(2)"
   ]
  },
  {
   "cell_type": "code",
   "execution_count": 11,
   "id": "d02a7bc7-fad1-4979-b594-1e15a16590be",
   "metadata": {},
   "outputs": [],
   "source": [
    "def MJ():\n",
    "    print('Michael Jackson')\n",
    "    \n",
    "def MJ1():\n",
    "    print('Michael Jackson')\n",
    "    return(None)"
   ]
  },
  {
   "cell_type": "code",
   "execution_count": 12,
   "id": "c1e1792b-2f15-4646-b37c-3e802e8fbdae",
   "metadata": {},
   "outputs": [
    {
     "name": "stdout",
     "output_type": "stream",
     "text": [
      "Michael Jackson\n"
     ]
    }
   ],
   "source": [
    "MJ()"
   ]
  },
  {
   "cell_type": "code",
   "execution_count": 13,
   "id": "a689da46-7f5e-4835-9deb-44038366dbc7",
   "metadata": {},
   "outputs": [
    {
     "name": "stdout",
     "output_type": "stream",
     "text": [
      "Michael Jackson\n"
     ]
    }
   ],
   "source": [
    "MJ1()"
   ]
  },
  {
   "cell_type": "code",
   "execution_count": 14,
   "id": "a3fea7fe-4157-40ad-b0db-e531fd979706",
   "metadata": {},
   "outputs": [
    {
     "name": "stdout",
     "output_type": "stream",
     "text": [
      "Michael Jackson\n",
      "None\n",
      "Michael Jackson\n",
      "None\n"
     ]
    }
   ],
   "source": [
    "print(MJ())\n",
    "print(MJ1())"
   ]
  },
  {
   "cell_type": "code",
   "execution_count": 18,
   "id": "15d7175a-8eab-459c-bf7e-6c5e167fffe4",
   "metadata": {},
   "outputs": [
    {
     "data": {
      "text/plain": [
       "'This is'"
      ]
     },
     "execution_count": 18,
     "metadata": {},
     "output_type": "execute_result"
    }
   ],
   "source": [
    "def con(a, b):\n",
    "    return(a + b)\n",
    "con(\"This \", \"is\")"
   ]
  },
  {
   "cell_type": "code",
   "execution_count": 19,
   "id": "a593badd-8658-4093-a75c-46fcbdee4a32",
   "metadata": {},
   "outputs": [
    {
     "ename": "TypeError",
     "evalue": "'int' object is not iterable",
     "output_type": "error",
     "traceback": [
      "\u001b[1;31m---------------------------------------------------------------------------\u001b[0m",
      "\u001b[1;31mTypeError\u001b[0m                                 Traceback (most recent call last)",
      "Cell \u001b[1;32mIn[19], line 1\u001b[0m\n\u001b[1;32m----> 1\u001b[0m \u001b[38;5;28msum\u001b[39m(\u001b[38;5;241m1\u001b[39m,\u001b[38;5;241m2\u001b[39m)\n",
      "\u001b[1;31mTypeError\u001b[0m: 'int' object is not iterable"
     ]
    }
   ],
   "source": [
    "sum(1,2)"
   ]
  },
  {
   "cell_type": "code",
   "execution_count": 20,
   "id": "0278f771-aac1-458b-a150-ef68448e9d99",
   "metadata": {},
   "outputs": [
    {
     "name": "stdout",
     "output_type": "stream",
     "text": [
      "Michael Jackson Thriller 1980\n",
      "Oldie\n"
     ]
    }
   ],
   "source": [
    "# Function example\n",
    "\n",
    "def type_of_album(artist, album, year_released):\n",
    "    \n",
    "    print(artist, album, year_released)\n",
    "    if year_released > 1980:\n",
    "        return \"Modern\"\n",
    "    else:\n",
    "        return \"Oldie\"\n",
    "    \n",
    "x = type_of_album(\"Michael Jackson\", \"Thriller\", 1980)\n",
    "print(x)"
   ]
  },
  {
   "cell_type": "code",
   "execution_count": 21,
   "id": "94e71498-b7c4-4c8b-9866-ca668d451cdb",
   "metadata": {},
   "outputs": [],
   "source": [
    "def PrintList(the_list):\n",
    "    for element in the_list:\n",
    "        print(element)"
   ]
  },
  {
   "cell_type": "code",
   "execution_count": 22,
   "id": "b8278993-8e9a-4f20-93a5-1a83020068da",
   "metadata": {},
   "outputs": [
    {
     "name": "stdout",
     "output_type": "stream",
     "text": [
      "1\n",
      "1\n",
      "the man\n",
      "abc\n"
     ]
    }
   ],
   "source": [
    "PrintList(['1', 1, 'the man', \"abc\"])"
   ]
  },
  {
   "cell_type": "code",
   "execution_count": 23,
   "id": "071de079-102f-4df5-a02d-9ee0c1081e61",
   "metadata": {},
   "outputs": [
    {
     "data": {
      "text/plain": [
       "'String matched'"
      ]
     },
     "execution_count": 23,
     "metadata": {},
     "output_type": "execute_result"
    }
   ],
   "source": [
    "#Compare Two Strings Directly using in operator\n",
    "# add string\n",
    "string= \"Michael Jackson is the best\"\n",
    "\n",
    "# Define a funtion\n",
    "def check_string(text):\n",
    "    \n",
    "# Use if else statement and 'in' operatore to compare the string\n",
    "    if text in string:\n",
    "        return 'String matched'\n",
    "    else:\n",
    "        return 'String not matched'\n",
    "\n",
    "check_string(\"Michael Jackson is the best\")"
   ]
  },
  {
   "cell_type": "code",
   "execution_count": 24,
   "id": "120a532c-d221-4d32-a2e1-abbf917f0c47",
   "metadata": {},
   "outputs": [
    {
     "name": "stdout",
     "output_type": "stream",
     "text": [
      "\n",
      "String Matched\n"
     ]
    }
   ],
   "source": [
    "#Compare two strings using == operator and function\n",
    "def compareStrings(x, y):\n",
    "# Use if else statement to compare x and y\n",
    "    if x==y:\n",
    "        return 1\n",
    "    \n",
    "# Declare two different variables as string1 and string2 and pass string in it\n",
    "string1 = \"Michael Jackson is the best\"\n",
    "string2 = \"Michael Jackson is the best\"\n",
    "\n",
    "# Declare a variable to store result after comparing both the strings\n",
    "check = compareStrings(string1, string2)\n",
    "\n",
    "#Use if else statement to compare the string\n",
    "if check==1:\n",
    "    print(\"\\nString Matched\")\n",
    "else:\n",
    "    print(\"\\nString not Matched\")"
   ]
  },
  {
   "cell_type": "code",
   "execution_count": 25,
   "id": "1f0bc68f-3b2d-481e-a928-7800c0e115d9",
   "metadata": {},
   "outputs": [
    {
     "name": "stdout",
     "output_type": "stream",
     "text": [
      "The Frequency of words is: {'Mary': 6, 'had': 2, 'a': 2, 'little': 3, 'lamb': 3, 'Little': 1, 'lamb,': 1, 'lamb.Its': 1, 'fleece': 1, 'was': 2, 'white': 1, 'as': 1, 'snow': 1, 'And': 1, 'everywhere': 1, 'that': 2, 'went': 3, 'went,': 1, 'Everywhere': 1, 'The': 1, 'sure': 1, 'to': 1, 'go': 1}\n"
     ]
    }
   ],
   "source": [
    "# Python Program to Count words in a String using Dictionary\n",
    "    def freq(string):\n",
    "    \n",
    "    #step1: A list variable is declared and initialized to an empty list.\n",
    "    words = []\n",
    "    \n",
    "    #step2: Break the string into list of words\n",
    "    words = string.split() # or string.lower().split()\n",
    "    \n",
    "    #step3: Declare a dictionary\n",
    "    Dict = {}\n",
    "    \n",
    "    #step4: Use for loop to iterate words and values to the dictionary\n",
    "    for key in words:\n",
    "        Dict[key] = words.count(key)\n",
    "        \n",
    "    #step5: Print the dictionary\n",
    "    print(\"The Frequency of words is:\",Dict)\n",
    "    \n",
    "#step6: Call function and pass string in it\n",
    "freq(\"Mary had a little lamb Little lamb, little lamb Mary had a little lamb.Its fleece was white as snow And everywhere that Mary went Mary went, Mary went \\\n",
    "Everywhere that Mary went The lamb was sure to go\")"
   ]
  },
  {
   "cell_type": "code",
   "execution_count": 26,
   "id": "f4bce16e-25ab-4959-8d4e-94f9329b5fca",
   "metadata": {},
   "outputs": [],
   "source": [
    "# Example for setting param with default value\n",
    "\n",
    "def isGoodRating(rating=4): \n",
    "    if(rating < 7):\n",
    "        print(\"this album sucks it's rating is\",rating)\n",
    "        \n",
    "    else:\n",
    "        print(\"this album is good its rating is\",rating)"
   ]
  },
  {
   "cell_type": "code",
   "execution_count": 27,
   "id": "8c0602fa-10ca-4165-b710-bd59f5d8942a",
   "metadata": {},
   "outputs": [
    {
     "name": "stdout",
     "output_type": "stream",
     "text": [
      "this album sucks it's rating is 4\n",
      "this album is good its rating is 10\n"
     ]
    }
   ],
   "source": [
    "isGoodRating()\n",
    "isGoodRating(10)"
   ]
  },
  {
   "cell_type": "code",
   "execution_count": 28,
   "id": "35cfb185-5543-454b-92f0-799429ce119c",
   "metadata": {},
   "outputs": [
    {
     "name": "stdout",
     "output_type": "stream",
     "text": [
      "Michael Jackson is an artist\n"
     ]
    }
   ],
   "source": [
    "# Example of global variable\n",
    "\n",
    "artist = \"Michael Jackson\"\n",
    "def printer1(artist):\n",
    "    internal_var1 = artist\n",
    "    print(artist, \"is an artist\")\n",
    "    \n",
    "printer1(artist)\n",
    "# try runningthe following code\n",
    "#printer1(internal_var1) "
   ]
  },
  {
   "cell_type": "code",
   "execution_count": 29,
   "id": "ce08364b-3720-4059-b81e-0993c5b66f7c",
   "metadata": {},
   "outputs": [
    {
     "name": "stdout",
     "output_type": "stream",
     "text": [
      "Michael Jackson is an artist\n",
      "Whitney Houston is an artist\n"
     ]
    }
   ],
   "source": [
    "artist = \"Michael Jackson\"\n",
    "\n",
    "def printer(artist):\n",
    "    global internal_var \n",
    "    internal_var= \"Whitney Houston\"\n",
    "    print(artist,\"is an artist\")\n",
    "\n",
    "printer(artist) \n",
    "printer(internal_var)"
   ]
  },
  {
   "cell_type": "code",
   "execution_count": 30,
   "id": "e0e2e784-315f-4f80-9b19-aa9b6c37e88b",
   "metadata": {},
   "outputs": [
    {
     "name": "stdout",
     "output_type": "stream",
     "text": [
      "AC/DC's rating is: 10.0\n",
      "Deep Purple's rating is: 0.0\n",
      "My favourite band is: AC/DC\n"
     ]
    }
   ],
   "source": [
    "# Example of global variable\n",
    "\n",
    "myFavouriteBand = \"AC/DC\"\n",
    "\n",
    "def getBandRating(bandname):\n",
    "    if bandname == myFavouriteBand:\n",
    "        return 10.0\n",
    "    else:\n",
    "        return 0.0\n",
    "\n",
    "print(\"AC/DC's rating is:\", getBandRating(\"AC/DC\"))\n",
    "print(\"Deep Purple's rating is:\",getBandRating(\"Deep Purple\"))\n",
    "print(\"My favourite band is:\", myFavouriteBand)"
   ]
  },
  {
   "cell_type": "code",
   "execution_count": 33,
   "id": "08182a36-10b1-4a26-a06d-9d07d3eb3354",
   "metadata": {},
   "outputs": [
    {
     "ename": "NameError",
     "evalue": "name 'myFavouriteBand' is not defined",
     "output_type": "error",
     "traceback": [
      "\u001b[1;31m---------------------------------------------------------------------------\u001b[0m",
      "\u001b[1;31mNameError\u001b[0m                                 Traceback (most recent call last)",
      "Cell \u001b[1;32mIn[33], line 3\u001b[0m\n\u001b[0;32m      1\u001b[0m \u001b[38;5;66;03m# Deleting the variable \"myFavouriteBand\" from the previous example to demonstrate an example of a local variable \u001b[39;00m\n\u001b[1;32m----> 3\u001b[0m \u001b[38;5;28;01mdel\u001b[39;00m myFavouriteBand\n\u001b[0;32m      5\u001b[0m \u001b[38;5;66;03m# Example of local variable\u001b[39;00m\n\u001b[0;32m      7\u001b[0m \u001b[38;5;28;01mdef\u001b[39;00m \u001b[38;5;21mgetBandRating\u001b[39m(bandname):\n",
      "\u001b[1;31mNameError\u001b[0m: name 'myFavouriteBand' is not defined"
     ]
    }
   ],
   "source": [
    "# Deleting the variable \"myFavouriteBand\" from the previous example to demonstrate an example of a local variable \n",
    "\n",
    "del myFavouriteBand\n",
    "\n",
    "# Example of local variable\n",
    "\n",
    "def getBandRating(bandname):\n",
    "    myFavouriteBand = \"AC/DC\"\n",
    "    if bandname == myFavouriteBand:\n",
    "        return 10.0\n",
    "    else:\n",
    "        return 0.0\n",
    "\n",
    "print(\"AC/DC's rating is: \", getBandRating(\"AC/DC\"))\n",
    "print(\"Deep Purple's rating is: \", getBandRating(\"Deep Purple\"))\n",
    "print(\"My favourite band is\", myFavouriteBand)"
   ]
  },
  {
   "cell_type": "code",
   "execution_count": 34,
   "id": "81f98c92-851e-4f93-8a27-be3476baaef4",
   "metadata": {},
   "outputs": [
    {
     "name": "stdout",
     "output_type": "stream",
     "text": [
      "{'little': 3}\n"
     ]
    }
   ],
   "source": [
    "'''Write a function code to find total count of word little in the given string: \"Mary had a little lamb Little lamb, little lamb Mary had a little lamb.Its fleece was white as snow And everywhere that Mary went Mary went, Mary went Everywhere that Mary went The lamb was sure to go'''\n",
    "\n",
    "# Write your code below and press Shift+Enter to execute\n",
    "def freq(string,quantitikey):\n",
    "    words = []\n",
    "    words = string.split()\n",
    "    Dict = {}\n",
    "    for key in words:\n",
    "        if key == quantitikey:\n",
    "            Dict[key] = words.count(key)\n",
    "    print(Dict)\n",
    "freq(\"Mary had a little lamb Little lamb, little lamb Mary had a little lamb.Its fleece was white as snow And everywhere that Mary went Mary went, Mary went Everywhere that Mary went The lamb was sure to go\", \"little\")\n",
    "\n",
    "    "
   ]
  },
  {
   "cell_type": "code",
   "execution_count": 35,
   "id": "ddd12049-5799-43bf-ac41-104848329ef6",
   "metadata": {},
   "outputs": [
    {
     "name": "stdout",
     "output_type": "stream",
     "text": [
      "Total Count: {'little': 3}\n"
     ]
    }
   ],
   "source": [
    "# Python Program to Count words in a String using Dictionary\n",
    "def freq(string,passedkey):\n",
    "\n",
    "    #step1: A list variable is declared and initialized to an empty list.\n",
    "    words = []\n",
    "\n",
    "    #step2: Break the string into list of words\n",
    "    words = string.split() # or string.lower().split()\n",
    "\n",
    "    #step3: Declare a dictionary\n",
    "    Dict = {}\n",
    "\n",
    "    #step4: Use for loop to iterate words and values to the dictionary\n",
    "    for key in words:\n",
    "        if(key == passedkey):\n",
    "            Dict[key] = words.count(key)   \n",
    "    #step5: Print the dictionary\n",
    "    print(\"Total Count:\",Dict)\n",
    "\n",
    "#step6: Call function and pass string in it\n",
    "freq(\"Mary had a little lamb Little lamb, little lamb Mary had a little lamb.Its fleece was white as snow And everywhere that Mary went Mary went, Mary went \\\n",
    "Everywhere that Mary went The lamb was sure to go\",\"little\")\n",
    "    "
   ]
  },
  {
   "cell_type": "code",
   "execution_count": 36,
   "id": "f49790ee-f793-47f8-8fa6-2015c444e411",
   "metadata": {},
   "outputs": [],
   "source": [
    "class Car(object):\n",
    "    def __init__(self,make,model,color):\n",
    "        self.make=make;\n",
    "        self.model=model;\n",
    "        self.color=color;\n",
    "        self.owner_number=0 \n",
    "    def car_info(self):\n",
    "        print(\"make: \",self.make)\n",
    "        print(\"model:\", self.model)\n",
    "        print(\"color:\",self.color)\n",
    "        print(\"number of owners:\",self.owner_number)\n",
    "    def sell(self):\n",
    "        self.owner_number=self.owner_number+1"
   ]
  },
  {
   "cell_type": "code",
   "execution_count": 37,
   "id": "aec946a5-c771-4a89-b774-6b58e49253b8",
   "metadata": {},
   "outputs": [],
   "source": [
    "class Car(object):\n",
    "    def __init__(self,make,model,color):\n",
    "        self.make=make;\n",
    "        self.model=model;\n",
    "        self.color=color;\n",
    "        self.owner_number=0 \n",
    "    def car_info(self):\n",
    "        print(\"make: \",self.make)\n",
    "        print(\"model:\", self.model)\n",
    "        print(\"color:\",self.color)\n",
    "        print(\"number of owners:\",self.owner_number)\n",
    "    def sell(self):\n",
    "        self.owner_number=self.owner_number+1\n",
    "make=\"BMW\"\n",
    "model=\"M3\"\n",
    "color=\"red\"\n",
    "my_car = Car(make,model,color)"
   ]
  },
  {
   "cell_type": "code",
   "execution_count": 38,
   "id": "21f679a9-25f3-41ec-b6bc-50c5a61b1d86",
   "metadata": {},
   "outputs": [],
   "source": [
    "make=\"BMW\"\n",
    "model=\"M3\"\n",
    "color=\"red\"\n",
    "my_car = Car(make,model,color)"
   ]
  },
  {
   "cell_type": "code",
   "execution_count": 41,
   "id": "b83287bd-6599-4f33-9edd-2eb1a53d1cc9",
   "metadata": {},
   "outputs": [
    {
     "ename": "TypeError",
     "evalue": "Vehicle.assign_seating_capacity() missing 1 required positional argument: 'seating_capacity'",
     "output_type": "error",
     "traceback": [
      "\u001b[1;31m---------------------------------------------------------------------------\u001b[0m",
      "\u001b[1;31mTypeError\u001b[0m                                 Traceback (most recent call last)",
      "Cell \u001b[1;32mIn[41], line 15\u001b[0m\n\u001b[0;32m     13\u001b[0m         \u001b[38;5;28mprint\u001b[39m(\u001b[38;5;124m\"\u001b[39m\u001b[38;5;124mColor: \u001b[39m\u001b[38;5;124m\"\u001b[39m,\u001b[38;5;28mself\u001b[39m\u001b[38;5;241m.\u001b[39mcolor)\n\u001b[0;32m     14\u001b[0m object1\u001b[38;5;241m=\u001b[39mVehicle(\u001b[38;5;124m\"\u001b[39m\u001b[38;5;124m200kph\u001b[39m\u001b[38;5;124m\"\u001b[39m,\u001b[38;5;124m\"\u001b[39m\u001b[38;5;124m50000kmpl\u001b[39m\u001b[38;5;124m\"\u001b[39m)\n\u001b[1;32m---> 15\u001b[0m object1\u001b[38;5;241m=\u001b[39mVehicle\u001b[38;5;241m.\u001b[39massign_seating_capacity(\u001b[38;5;241m5\u001b[39m)\n\u001b[0;32m     16\u001b[0m object1\u001b[38;5;241m=\u001b[39mVehicle\u001b[38;5;241m.\u001b[39mVehicle_info()\n\u001b[0;32m     18\u001b[0m object2\u001b[38;5;241m=\u001b[39mVehicle(\u001b[38;5;124m\"\u001b[39m\u001b[38;5;124m180kph\u001b[39m\u001b[38;5;124m\"\u001b[39m,\u001b[38;5;124m\"\u001b[39m\u001b[38;5;124m75000kmpl\u001b[39m\u001b[38;5;124m\"\u001b[39m)\n",
      "\u001b[1;31mTypeError\u001b[0m: Vehicle.assign_seating_capacity() missing 1 required positional argument: 'seating_capacity'"
     ]
    }
   ],
   "source": [
    "class Vehicle:\n",
    "    color = \"white\"\n",
    "    def __init__(self,max_speed,mileage):\n",
    "        self.max_speed= max_speed;\n",
    "        self.mileage = mileage;\n",
    "        self.seating_capacity = 0;\n",
    "    def assign_seating_capacity(self, seating_capacity):\n",
    "        self.seating_capacity = seating_capacity\n",
    "    def Vehicle_info(self):\n",
    "        print(\"max_speed: \",self.max_speed)\n",
    "        print(\"mileage: \",self.mileage)\n",
    "        print(\"seating_capacity: \",self.seating_capacity)\n",
    "        print(\"Color: \",self.color)\n",
    "object1=Vehicle(\"200kph\",\"50000kmpl\")\n",
    "object1=Vehicle.assign_seating_capacity(5)\n",
    "object1=Vehicle.Vehicle_info()\n",
    "\n",
    "object2=Vehicle(\"180kph\",\"75000kmpl\")\n",
    "object2=Vehicle.assign_seating_capacity(4)\n",
    "object2=Vehicle.Vehicle_info()"
   ]
  },
  {
   "cell_type": "code",
   "execution_count": 40,
   "id": "421b735e-3ded-44bd-b6f7-8e2d44b9591a",
   "metadata": {},
   "outputs": [
    {
     "name": "stdout",
     "output_type": "stream",
     "text": [
      "Properties of the Vehicle:\n",
      "Color: white\n",
      "Maximum Speed: 200\n",
      "Mileage: 50000\n",
      "Seating Capacity: 5\n",
      "Properties of the Vehicle:\n",
      "Color: white\n",
      "Maximum Speed: 180\n",
      "Mileage: 75000\n",
      "Seating Capacity: 4\n"
     ]
    }
   ],
   "source": [
    "class Vehicle:\n",
    "    color = \"white\"\n",
    "\n",
    "    def __init__(self, max_speed, mileage):\n",
    "        self.max_speed = max_speed\n",
    "        self.mileage = mileage\n",
    "        self.seating_capacity = None\n",
    "\n",
    "    def assign_seating_capacity(self, seating_capacity):\n",
    "        self.seating_capacity = seating_capacity\n",
    "\n",
    "    def display_properties(self):\n",
    "        print(\"Properties of the Vehicle:\")\n",
    "        print(\"Color:\", self.color)\n",
    "        print(\"Maximum Speed:\", self.max_speed)\n",
    "        print(\"Mileage:\", self.mileage)\n",
    "        print(\"Seating Capacity:\", self.seating_capacity)\n",
    "\n",
    "# Creating objects of the Vehicle class\n",
    "vehicle1 = Vehicle(200, 50000)\n",
    "vehicle1.assign_seating_capacity(5)\n",
    "vehicle1.display_properties()\n",
    "\n",
    "vehicle2 = Vehicle(180, 75000)\n",
    "vehicle2.assign_seating_capacity(4)\n",
    "vehicle2.display_properties()"
   ]
  },
  {
   "cell_type": "code",
   "execution_count": 42,
   "id": "668a05bc-d753-4fa5-bf73-d50fbd602541",
   "metadata": {},
   "outputs": [
    {
     "ename": "ZeroDivisionError",
     "evalue": "division by zero",
     "output_type": "error",
     "traceback": [
      "\u001b[1;31m---------------------------------------------------------------------------\u001b[0m",
      "\u001b[1;31mZeroDivisionError\u001b[0m                         Traceback (most recent call last)",
      "Cell \u001b[1;32mIn[42], line 1\u001b[0m\n\u001b[1;32m----> 1\u001b[0m \u001b[38;5;241m1\u001b[39m\u001b[38;5;241m/\u001b[39m\u001b[38;5;241m0\u001b[39m\n",
      "\u001b[1;31mZeroDivisionError\u001b[0m: division by zero"
     ]
    }
   ],
   "source": [
    "1/0"
   ]
  },
  {
   "cell_type": "code",
   "execution_count": null,
   "id": "fde31caa-5c54-465c-8cb0-e0b5e2c9a027",
   "metadata": {},
   "outputs": [],
   "source": [
    "def safe_divide(numerator,denominator):\n",
    "    try:\n",
    "        result = numerator/denominator\n",
    "        return result\n",
    "    except ZeroDivisionError:\n",
    "        print(\"Error: Cannot divide by Zero.\")\n",
    "        return None\n",
    "numerator=int(input(\"Enter the numerator value:-\"))\n",
    "denominator=int(input(\"Enter the denominator value:-\"))\n",
    "print(safe_divide(numerator,denominator)) "
   ]
  },
  {
   "cell_type": "code",
   "execution_count": null,
   "id": "b1fc24a6-9c12-4ed1-9da5-0ab2cb6398d8",
   "metadata": {},
   "outputs": [],
   "source": [
    "def safe_divide(numerator,denominator):\n",
    "    try:\n",
    "        result = numerator / denominator\n",
    "        return result\n",
    "    except ZeroDivisionError:\n",
    "        print(\"Error: Cannot divide by zero.\")\n",
    "        return None\n"
   ]
  },
  {
   "cell_type": "code",
   "execution_count": 2,
   "id": "5d07acc3-fa2e-4495-8bd8-178cb8cc3fb9",
   "metadata": {},
   "outputs": [
    {
     "name": "stdin",
     "output_type": "stream",
     "text": [
      "Enter the numerator:  2\n",
      "Enter the denominator:  0\n"
     ]
    },
    {
     "name": "stdout",
     "output_type": "stream",
     "text": [
      "Error: Cannot divide by zero.\n",
      "Division was not performed due to an error.\n"
     ]
    }
   ],
   "source": [
    "def safe_divide(numerator, denominator):\n",
    "    try:\n",
    "        result = numerator / denominator\n",
    "        return result\n",
    "    except ZeroDivisionError:\n",
    "        print(\"Error: Cannot divide by zero.\")\n",
    "        return None\n",
    "\n",
    "# Function to get user input and call safe_divide\n",
    "def main():\n",
    "    try:\n",
    "        numerator = float(input(\"Enter the numerator: \"))\n",
    "        denominator = float(input(\"Enter the denominator: \"))\n",
    "    except ValueError:\n",
    "        print(\"Error: Please enter valid numbers.\")\n",
    "        return\n",
    "\n",
    "    result = safe_divide(numerator, denominator)\n",
    "    if result is not None:\n",
    "        print(f\"The result of dividing {numerator} by {denominator} is {result}\")\n",
    "    else:\n",
    "        print(\"Division was not performed due to an error.\")\n",
    "\n",
    "# Call the main function to execute the program\n",
    "if __name__ == \"__main__\":\n",
    "    main()"
   ]
  },
  {
   "cell_type": "code",
   "execution_count": 7,
   "id": "53fcb62c-2511-458b-8dba-132794b2696c",
   "metadata": {},
   "outputs": [
    {
     "name": "stdin",
     "output_type": "stream",
     "text": [
      "Enter the numerator:  4\n",
      "Enter the denominator:  fwae\n"
     ]
    },
    {
     "name": "stdout",
     "output_type": "stream",
     "text": [
      "Error: Please enter valid numbers.\n"
     ]
    }
   ],
   "source": [
    "def safe_divide(numerator, denominator):\n",
    "    try:\n",
    "        result = numerator / denominator\n",
    "        return result\n",
    "    except ZeroDivisionError:\n",
    "        print(\"Error: Cannot divide by zero.\")\n",
    "        return None\n",
    "\n",
    "# Function to get user input and call safe_divide\n",
    "def main():\n",
    "    try:\n",
    "        numerator = float(input(\"Enter the numerator: \"))\n",
    "        denominator = float(input(\"Enter the denominator: \"))\n",
    "    except ValueError:\n",
    "        print(\"Error: Please enter valid numbers.\")\n",
    "        return\n",
    "\n",
    "    result = safe_divide(numerator, denominator)\n",
    "    if result is not None:\n",
    "        print(f\"The result of dividing {numerator} by {denominator} is {result}\")\n",
    "    else:\n",
    "        print(\"Division was not performed due to an error.\")\n",
    "\n",
    "# Call the main function to execute the program\n",
    "if __name__ == \"__main__\":\n",
    "    main()\n"
   ]
  },
  {
   "cell_type": "code",
   "execution_count": 8,
   "id": "f64d5404-1af4-4281-9779-8dd67e96546a",
   "metadata": {},
   "outputs": [],
   "source": [
    "#Type your code here\n",
    "def safe_divide(numerator,denominator):\n",
    "    try:\n",
    "        result = numerator/denominator\n",
    "        return result\n",
    "    except ZeroDivisionError:\n",
    "        print(\"Error: Cannot divide by Zero.\")\n",
    "        return None"
   ]
  },
  {
   "cell_type": "code",
   "execution_count": 10,
   "id": "ae557a7e-b072-4f37-8914-af96be4c65c2",
   "metadata": {},
   "outputs": [
    {
     "name": "stdin",
     "output_type": "stream",
     "text": [
      "Enter the numerator value:- 3\n",
      "Enter the denominator value:- 0\n"
     ]
    },
    {
     "name": "stdout",
     "output_type": "stream",
     "text": [
      "Error: Cannot divide by zero.\n",
      "None\n"
     ]
    }
   ],
   "source": [
    "def safe_divide(numerator,denominator):\n",
    "    try:\n",
    "        result = numerator / denominator\n",
    "        return result\n",
    "    except ZeroDivisionError:\n",
    "        print(\"Error: Cannot divide by zero.\")\n",
    "        return None\n",
    "# Test case\n",
    "numerator=int(input(\"Enter the numerator value:-\"))\n",
    "denominator=int(input(\"Enter the denominator value:-\"))\n",
    "print(safe_divide(numerator,denominator)) "
   ]
  },
  {
   "cell_type": "code",
   "execution_count": 15,
   "id": "4ac82bfb-9df8-4f9c-b9a4-dcb681d0073e",
   "metadata": {},
   "outputs": [
    {
     "name": "stdin",
     "output_type": "stream",
     "text": [
      "Enter the numerator value:  -3\n"
     ]
    },
    {
     "name": "stdout",
     "output_type": "stream",
     "text": [
      "'Invalid input! Please enter a positive integer or a float value\n",
      "None\n"
     ]
    }
   ],
   "source": [
    "def square_root(number1):\n",
    "    try:\n",
    "        import math\n",
    "        result=math.sqrt(number1)\n",
    "        return result\n",
    "    except ValueError:\n",
    "        if number1 < 0:\n",
    "            print(\"'Invalid input! Please enter a positive integer or a float value\")\n",
    "        return None\n",
    "number1=int(input(\"Enter the numerator value: \"))\n",
    "print(square_root(number1))"
   ]
  },
  {
   "cell_type": "code",
   "execution_count": 16,
   "id": "db39aad4-3d1b-4086-87ba-c7c3399f5b59",
   "metadata": {},
   "outputs": [
    {
     "name": "stdin",
     "output_type": "stream",
     "text": [
      "Enter a number:  5\n"
     ]
    },
    {
     "name": "stdout",
     "output_type": "stream",
     "text": [
      "An error occurred during calculation.\n"
     ]
    }
   ],
   "source": [
    "def complex_calculation(num):\n",
    "    try:\n",
    "        result = num / (num - 5)\n",
    "        print (f\"Result: {result}\")\n",
    "    except Exception as e:\n",
    "        print(\"An error occurred during calculation.\")\n",
    "# Test case\n",
    "user_input = float(input(\"Enter a number: \"))\n",
    "complex_calculation(user_input)"
   ]
  },
  {
   "cell_type": "code",
   "execution_count": 18,
   "id": "46cacad9-d490-4605-9616-1c6b09e21ba8",
   "metadata": {},
   "outputs": [
    {
     "name": "stdout",
     "output_type": "stream",
     "text": [
      "11\n",
      "22\n",
      "33\n"
     ]
    }
   ],
   "source": [
    "A = ['1','2','3']\n",
    "\n",
    "for a in A:\n",
    "    print(2*a)"
   ]
  },
  {
   "cell_type": "code",
   "execution_count": 22,
   "id": "6bdd5bc6-29d5-4e5f-b98f-d7aaefc76dd6",
   "metadata": {},
   "outputs": [
    {
     "name": "stdin",
     "output_type": "stream",
     "text": [
      " 0\n"
     ]
    },
    {
     "name": "stdout",
     "output_type": "stream",
     "text": [
      "1\n"
     ]
    }
   ],
   "source": [
    "def Delta(x):\n",
    "\n",
    "    if x==0:\n",
    "\n",
    "        y=1;\n",
    "\n",
    "    else:\n",
    "\n",
    "        y=0;\n",
    "\n",
    "    return(y)\n",
    "x=int(input())\n",
    "print(Delta(x))"
   ]
  },
  {
   "cell_type": "code",
   "execution_count": 23,
   "id": "106c8216-0d21-46e4-b682-8ffa4ae649d1",
   "metadata": {},
   "outputs": [
    {
     "ename": "SyntaxError",
     "evalue": "leading zeros in decimal integer literals are not permitted; use an 0o prefix for octal integers (4032370965.py, line 47)",
     "output_type": "error",
     "traceback": [
      "\u001b[1;36m  Cell \u001b[1;32mIn[23], line 47\u001b[1;36m\u001b[0m\n\u001b[1;33m    <td>01-Mar-73</td>\u001b[0m\n\u001b[1;37m        ^\u001b[0m\n\u001b[1;31mSyntaxError\u001b[0m\u001b[1;31m:\u001b[0m leading zeros in decimal integer literals are not permitted; use an 0o prefix for octal integers\n"
     ]
    }
   ],
   "source": [
    "<font size=\"1\">\n",
    "<table font-size:xx-small>\n",
    "  <tr>\n",
    "    <th>Artist</th>\n",
    "    <th>Album</th> \n",
    "    <th>Released</th>\n",
    "    <th>Length</th>\n",
    "    <th>Genre</th> \n",
    "    <th>Music recording sales (millions)</th>\n",
    "    <th>Claimed sales (millions)</th>\n",
    "    <th>Released</th>\n",
    "    <th>Soundtrack</th>\n",
    "    <th>Rating (friends)</th>\n",
    "  </tr>\n",
    "  <tr>\n",
    "    <td>Michael Jackson</td>\n",
    "    <td>Thriller</td> \n",
    "    <td>1982</td>\n",
    "    <td>00:42:19</td>\n",
    "    <td>Pop, rock, R&B</td>\n",
    "    <td>46</td>\n",
    "    <td>65</td>\n",
    "    <td>30-Nov-82</td>\n",
    "    <td></td>\n",
    "    <td>10.0</td>\n",
    "  </tr>\n",
    "  <tr>\n",
    "    <td>AC/DC</td>\n",
    "    <td>Back in Black</td> \n",
    "    <td>1980</td>\n",
    "    <td>00:42:11</td>\n",
    "    <td>Hard rock</td>\n",
    "    <td>26.1</td>\n",
    "    <td>50</td>\n",
    "    <td>25-Jul-80</td>\n",
    "    <td></td>\n",
    "    <td>8.5</td>\n",
    "  </tr>\n",
    "    <tr>\n",
    "    <td>Pink Floyd</td>\n",
    "    <td>The Dark Side of the Moon</td> \n",
    "    <td>1973</td>\n",
    "    <td>00:42:49</td>\n",
    "    <td>Progressive rock</td>\n",
    "    <td>24.2</td>\n",
    "    <td>45</td>\n",
    "    <td>01-Mar-73</td>\n",
    "    <td></td>\n",
    "    <td>9.5</td>\n",
    "  </tr>\n",
    "    <tr>\n",
    "    <td>Whitney Houston</td>\n",
    "    <td>The Bodyguard</td> \n",
    "    <td>1992</td>\n",
    "    <td>00:57:44</td>\n",
    "    <td>Soundtrack/R&B, soul, pop</td>\n",
    "    <td>26.1</td>\n",
    "    <td>50</td>\n",
    "    <td>25-Jul-80</td>\n",
    "    <td>Y</td>\n",
    "    <td>7.0</td>\n",
    "  </tr>\n",
    "    <tr>\n",
    "    <td>Meat Loaf</td>\n",
    "    <td>Bat Out of Hell</td> \n",
    "    <td>1977</td>\n",
    "    <td>00:46:33</td>\n",
    "    <td>Hard rock, progressive rock</td>\n",
    "    <td>20.6</td>\n",
    "    <td>43</td>\n",
    "    <td>21-Oct-77</td>\n",
    "    <td></td>\n",
    "    <td>7.0</td>\n",
    "  </tr>\n",
    "    <tr>\n",
    "    <td>Eagles</td>\n",
    "    <td>Their Greatest Hits (1971-1975)</td> \n",
    "    <td>1976</td>\n",
    "    <td>00:43:08</td>\n",
    "    <td>Rock, soft rock, folk rock</td>\n",
    "    <td>32.2</td>\n",
    "    <td>42</td>\n",
    "    <td>17-Feb-76</td>\n",
    "    <td></td>\n",
    "    <td>9.5</td>\n",
    "  </tr>\n",
    "    <tr>\n",
    "    <td>Bee Gees</td>\n",
    "    <td>Saturday Night Fever</td> \n",
    "    <td>1977</td>\n",
    "    <td>1:15:54</td>\n",
    "    <td>Disco</td>\n",
    "    <td>20.6</td>\n",
    "    <td>40</td>\n",
    "    <td>15-Nov-77</td>\n",
    "    <td>Y</td>\n",
    "    <td>9.0</td>\n",
    "  </tr>\n",
    "    <tr>\n",
    "    <td>Fleetwood Mac</td>\n",
    "    <td>Rumours</td> \n",
    "    <td>1977</td>\n",
    "    <td>00:40:01</td>\n",
    "    <td>Soft rock</td>\n",
    "    <td>27.9</td>\n",
    "    <td>40</td>\n",
    "    <td>04-Feb-77</td>\n",
    "    <td></td>\n",
    "    <td>9.5</td>\n",
    "  </tr>\n",
    "</table></font>"
   ]
  },
  {
   "cell_type": "code",
   "execution_count": 24,
   "id": "f2793be7-f0e6-4ac6-9c43-a61a924996be",
   "metadata": {},
   "outputs": [
    {
     "data": {
      "text/html": [
       "<div>\n",
       "<style scoped>\n",
       "    .dataframe tbody tr th:only-of-type {\n",
       "        vertical-align: middle;\n",
       "    }\n",
       "\n",
       "    .dataframe tbody tr th {\n",
       "        vertical-align: top;\n",
       "    }\n",
       "\n",
       "    .dataframe thead th {\n",
       "        text-align: right;\n",
       "    }\n",
       "</style>\n",
       "<table border=\"1\" class=\"dataframe\">\n",
       "  <thead>\n",
       "    <tr style=\"text-align: right;\">\n",
       "      <th></th>\n",
       "      <th>a</th>\n",
       "      <th>b</th>\n",
       "    </tr>\n",
       "  </thead>\n",
       "  <tbody>\n",
       "    <tr>\n",
       "      <th>0</th>\n",
       "      <td>11</td>\n",
       "      <td>21</td>\n",
       "    </tr>\n",
       "    <tr>\n",
       "      <th>1</th>\n",
       "      <td>21</td>\n",
       "      <td>22</td>\n",
       "    </tr>\n",
       "    <tr>\n",
       "      <th>2</th>\n",
       "      <td>31</td>\n",
       "      <td>23</td>\n",
       "    </tr>\n",
       "  </tbody>\n",
       "</table>\n",
       "</div>"
      ],
      "text/plain": [
       "    a   b\n",
       "0  11  21\n",
       "1  21  22\n",
       "2  31  23"
      ]
     },
     "execution_count": 24,
     "metadata": {},
     "output_type": "execute_result"
    }
   ],
   "source": [
    "import pandas as banana\n",
    "\n",
    "df=banana.DataFrame({'a':[11,21,31],'b':[21,22,23]})\n",
    "\n",
    "df.head()"
   ]
  },
  {
   "cell_type": "code",
   "execution_count": 25,
   "id": "a5307add-a33b-4946-99ae-7ad859469bdd",
   "metadata": {},
   "outputs": [
    {
     "ename": "NameError",
     "evalue": "name 'pd' is not defined",
     "output_type": "error",
     "traceback": [
      "\u001b[1;31m---------------------------------------------------------------------------\u001b[0m",
      "\u001b[1;31mNameError\u001b[0m                                 Traceback (most recent call last)",
      "Cell \u001b[1;32mIn[25], line 1\u001b[0m\n\u001b[1;32m----> 1\u001b[0m df\u001b[38;5;241m=\u001b[39mpd\u001b[38;5;241m.\u001b[39mDataFrame({\u001b[38;5;124m'\u001b[39m\u001b[38;5;124ma\u001b[39m\u001b[38;5;124m'\u001b[39m:[\u001b[38;5;241m1\u001b[39m,\u001b[38;5;241m2\u001b[39m,\u001b[38;5;241m1\u001b[39m],\u001b[38;5;124m'\u001b[39m\u001b[38;5;124mb\u001b[39m\u001b[38;5;124m'\u001b[39m:[\u001b[38;5;241m1\u001b[39m,\u001b[38;5;241m1\u001b[39m,\u001b[38;5;241m1\u001b[39m]})\n\u001b[0;32m      2\u001b[0m \u001b[38;5;28mtype\u001b[39m(df[\u001b[38;5;124m'\u001b[39m\u001b[38;5;124ma\u001b[39m\u001b[38;5;124m'\u001b[39m]\u001b[38;5;241m==\u001b[39m\u001b[38;5;241m1\u001b[39m)\n",
      "\u001b[1;31mNameError\u001b[0m: name 'pd' is not defined"
     ]
    }
   ],
   "source": [
    "df=pd.DataFrame({'a':[1,2,1],'b':[1,1,1]})\n",
    "type(df['a']==1)"
   ]
  },
  {
   "cell_type": "code",
   "execution_count": 26,
   "id": "d67698c7-6cb4-48e8-a2f9-e57f6a558526",
   "metadata": {},
   "outputs": [],
   "source": [
    "import pandas as pd\n",
    "\n",
    "df=pd.DataFrame({'a':[1,2,1],'b':[1,1,1]})"
   ]
  },
  {
   "cell_type": "code",
   "execution_count": 27,
   "id": "8e393e00-761e-4eb0-bc61-a9910efc9c06",
   "metadata": {},
   "outputs": [
    {
     "data": {
      "text/plain": [
       "array([1, 2], dtype=int64)"
      ]
     },
     "execution_count": 27,
     "metadata": {},
     "output_type": "execute_result"
    }
   ],
   "source": [
    "df[\"a\"].unique()"
   ]
  },
  {
   "cell_type": "code",
   "execution_count": 28,
   "id": "ed046dfd-01f1-4620-8eee-75f1819c9fc0",
   "metadata": {},
   "outputs": [
    {
     "data": {
      "text/html": [
       "<div>\n",
       "<style scoped>\n",
       "    .dataframe tbody tr th:only-of-type {\n",
       "        vertical-align: middle;\n",
       "    }\n",
       "\n",
       "    .dataframe tbody tr th {\n",
       "        vertical-align: top;\n",
       "    }\n",
       "\n",
       "    .dataframe thead th {\n",
       "        text-align: right;\n",
       "    }\n",
       "</style>\n",
       "<table border=\"1\" class=\"dataframe\">\n",
       "  <thead>\n",
       "    <tr style=\"text-align: right;\">\n",
       "      <th></th>\n",
       "      <th>a</th>\n",
       "      <th>b</th>\n",
       "    </tr>\n",
       "  </thead>\n",
       "  <tbody>\n",
       "    <tr>\n",
       "      <th>0</th>\n",
       "      <td>1</td>\n",
       "      <td>1</td>\n",
       "    </tr>\n",
       "    <tr>\n",
       "      <th>2</th>\n",
       "      <td>1</td>\n",
       "      <td>1</td>\n",
       "    </tr>\n",
       "  </tbody>\n",
       "</table>\n",
       "</div>"
      ],
      "text/plain": [
       "   a  b\n",
       "0  1  1\n",
       "2  1  1"
      ]
     },
     "execution_count": 28,
     "metadata": {},
     "output_type": "execute_result"
    }
   ],
   "source": [
    "df[df[\"a\"]<2]"
   ]
  },
  {
   "cell_type": "code",
   "execution_count": 29,
   "id": "c6f632ab-c48b-41c9-b44c-a51a98b82974",
   "metadata": {},
   "outputs": [
    {
     "data": {
      "text/plain": [
       "0    1\n",
       "1    2\n",
       "2    1\n",
       "Name: a, dtype: int64"
      ]
     },
     "execution_count": 29,
     "metadata": {},
     "output_type": "execute_result"
    }
   ],
   "source": [
    "df[\"a\"]"
   ]
  },
  {
   "cell_type": "code",
   "execution_count": 30,
   "id": "0eb0987b-e9d7-4af4-9077-d7af2c08e0df",
   "metadata": {},
   "outputs": [
    {
     "data": {
      "text/html": [
       "<div>\n",
       "<style scoped>\n",
       "    .dataframe tbody tr th:only-of-type {\n",
       "        vertical-align: middle;\n",
       "    }\n",
       "\n",
       "    .dataframe tbody tr th {\n",
       "        vertical-align: top;\n",
       "    }\n",
       "\n",
       "    .dataframe thead th {\n",
       "        text-align: right;\n",
       "    }\n",
       "</style>\n",
       "<table border=\"1\" class=\"dataframe\">\n",
       "  <thead>\n",
       "    <tr style=\"text-align: right;\">\n",
       "      <th></th>\n",
       "      <th>a</th>\n",
       "      <th>b</th>\n",
       "    </tr>\n",
       "  </thead>\n",
       "  <tbody>\n",
       "    <tr>\n",
       "      <th>0</th>\n",
       "      <td>1</td>\n",
       "      <td>1</td>\n",
       "    </tr>\n",
       "    <tr>\n",
       "      <th>1</th>\n",
       "      <td>2</td>\n",
       "      <td>1</td>\n",
       "    </tr>\n",
       "  </tbody>\n",
       "</table>\n",
       "</div>"
      ],
      "text/plain": [
       "   a  b\n",
       "0  1  1\n",
       "1  2  1"
      ]
     },
     "execution_count": 30,
     "metadata": {},
     "output_type": "execute_result"
    }
   ],
   "source": [
    "df.head(2)"
   ]
  },
  {
   "cell_type": "code",
   "execution_count": 31,
   "id": "74d4a80f-3d7b-4507-acf3-9a4c9480cef8",
   "metadata": {},
   "outputs": [],
   "source": [
    "new_index=['a','b','c','d','e','f','g','h']\n",
    "df_new=df"
   ]
  },
  {
   "cell_type": "markdown",
   "id": "e3b4fdb8-39cb-41fb-a086-53d5c8614d1d",
   "metadata": {},
   "source": [
    "# \"\"\"Use the following list to convert the dataframe index df to characters and assign it to df_new; \n",
    "# find the element corresponding to the row index a and column 'Artist'. Then select the rows a through d for the column 'Artist'\"\"\"\n"
   ]
  },
  {
   "cell_type": "code",
   "execution_count": 33,
   "id": "2a813dfd-674f-4bfd-b770-6c9fdee8198a",
   "metadata": {},
   "outputs": [
    {
     "ename": "NameError",
     "evalue": "name 'np' is not defined",
     "output_type": "error",
     "traceback": [
      "\u001b[1;31m---------------------------------------------------------------------------\u001b[0m",
      "\u001b[1;31mNameError\u001b[0m                                 Traceback (most recent call last)",
      "Cell \u001b[1;32mIn[33], line 1\u001b[0m\n\u001b[1;32m----> 1\u001b[0m arr1 \u001b[38;5;241m=\u001b[39m np\u001b[38;5;241m.\u001b[39marray([\u001b[38;5;241m1\u001b[39m, \u001b[38;5;241m2\u001b[39m, \u001b[38;5;241m3\u001b[39m, \u001b[38;5;241m4\u001b[39m, \u001b[38;5;241m5\u001b[39m])\n\u001b[0;32m      2\u001b[0m arr2 \u001b[38;5;241m=\u001b[39m np\u001b[38;5;241m.\u001b[39marray([\u001b[38;5;241m6\u001b[39m, \u001b[38;5;241m7\u001b[39m, \u001b[38;5;241m8\u001b[39m, \u001b[38;5;241m9\u001b[39m, \u001b[38;5;241m10\u001b[39m])\n\u001b[0;32m      3\u001b[0m even_arr1 \u001b[38;5;241m=\u001b[39m arr1[\u001b[38;5;241m1\u001b[39m:\u001b[38;5;241m-\u001b[39m\u001b[38;5;241m1\u001b[39m:\u001b[38;5;241m2\u001b[39m]\n",
      "\u001b[1;31mNameError\u001b[0m: name 'np' is not defined"
     ]
    }
   ],
   "source": [
    "arr1 = np.array([1, 2, 3, 4, 5])\n",
    "arr2 = np.array([6, 7, 8, 9, 10])\n",
    "even_arr1 = arr1[1:-1:2]\n",
    "even_arr2 = arr2[1:-1:2]\n",
    "odd_arr1 = arr1[0:-1:2]\n",
    "odd_arr2 = arr2[0:-1:2]\n",
    "print(\"even from arr1 is: \", even_arr1)\n",
    "print(\"even from arr2 is: \", even_arr2)\n",
    "print(\"odd from arr1 is: \", odd_arr1)\n",
    "print(\"odd from arr2 is: \", odd_arr2)"
   ]
  },
  {
   "cell_type": "code",
   "execution_count": 34,
   "id": "3b2d18f4-039e-433b-9ca0-a86c48b53eb4",
   "metadata": {},
   "outputs": [
    {
     "ename": "SyntaxError",
     "evalue": "invalid syntax (4237321345.py, line 1)",
     "output_type": "error",
     "traceback": [
      "\u001b[1;36m  Cell \u001b[1;32mIn[34], line 1\u001b[1;36m\u001b[0m\n\u001b[1;33m    even from arr1 is:  [2 4]\u001b[0m\n\u001b[1;37m         ^\u001b[0m\n\u001b[1;31mSyntaxError\u001b[0m\u001b[1;31m:\u001b[0m invalid syntax\n"
     ]
    }
   ],
   "source": [
    "even from arr1 is:  [2 4]\n",
    "even from arr2 is:  [7 9]\n",
    "odd from arr1 is:  [1 3]\n",
    "odd from arr2 is:  [6 8]"
   ]
  },
  {
   "cell_type": "code",
   "execution_count": 35,
   "id": "23287e55-0c9e-4f4a-aa94-e82d15cedcbd",
   "metadata": {},
   "outputs": [
    {
     "data": {
      "text/plain": [
       "array([0, 0, 0, 0, 0])"
      ]
     },
     "execution_count": 35,
     "metadata": {},
     "output_type": "execute_result"
    }
   ],
   "source": [
    "import numpy as np\n",
    "a=np.array([0,1,0,1,0])\n",
    "\n",
    "b=np.array([1,0,1,0,1])\n",
    "\n",
    "a*b"
   ]
  },
  {
   "cell_type": "code",
   "execution_count": 36,
   "id": "b31aafc0-cbba-473d-9d4e-ae3d2ab75dd2",
   "metadata": {},
   "outputs": [
    {
     "data": {
      "text/plain": [
       "0"
      ]
     },
     "execution_count": 36,
     "metadata": {},
     "output_type": "execute_result"
    }
   ],
   "source": [
    "a=np.array([0,1])\n",
    "\n",
    "b=np.array([1,0])\n",
    "\n",
    "np.dot(a,b)"
   ]
  },
  {
   "cell_type": "code",
   "execution_count": 37,
   "id": "5ddd39b3-1db2-42fb-8e2c-40ab96da52d8",
   "metadata": {},
   "outputs": [
    {
     "data": {
      "text/plain": [
       "array([11, 11, 11, 11, 11])"
      ]
     },
     "execution_count": 37,
     "metadata": {},
     "output_type": "execute_result"
    }
   ],
   "source": [
    "a=np.array([1,1,1,1,1])\n",
    "\n",
    "a+10"
   ]
  },
  {
   "cell_type": "code",
   "execution_count": null,
   "id": "955a1850-6aa6-42e5-8ea5-3e0a5b94caa3",
   "metadata": {},
   "outputs": [],
   "source": []
  }
 ],
 "metadata": {
  "kernelspec": {
   "display_name": "Python 3 (ipykernel)",
   "language": "python",
   "name": "python3"
  },
  "language_info": {
   "codemirror_mode": {
    "name": "ipython",
    "version": 3
   },
   "file_extension": ".py",
   "mimetype": "text/x-python",
   "name": "python",
   "nbconvert_exporter": "python",
   "pygments_lexer": "ipython3",
   "version": "3.11.7"
  }
 },
 "nbformat": 4,
 "nbformat_minor": 5
}
