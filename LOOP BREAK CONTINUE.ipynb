{
 "cells": [
  {
   "cell_type": "markdown",
   "id": "55a2b744-dbbf-40bb-b9f2-751f1426dcbb",
   "metadata": {},
   "source": [
    "# Control Flow (Loops: Break , continute)"
   ]
  },
  {
   "cell_type": "code",
   "execution_count": 1,
   "id": "16601ca8-d6b3-47e7-b080-fc9d20b79cba",
   "metadata": {},
   "outputs": [
    {
     "name": "stdout",
     "output_type": "stream",
     "text": [
      "something\n",
      "done\n"
     ]
    }
   ],
   "source": [
    "n = 10\n",
    "i = 1\n",
    "while True:\n",
    "    if i%9 == 0:\n",
    "        print(\"inside if\")\n",
    "        i += 1\n",
    "        continue\n",
    "    print(\"something\")\n",
    "    break\n",
    "print(\"done\")"
   ]
  },
  {
   "cell_type": "code",
   "execution_count": 2,
   "id": "8de16548-f83b-4c12-aabe-3af39852cbab",
   "metadata": {},
   "outputs": [
    {
     "name": "stdout",
     "output_type": "stream",
     "text": [
      "break cais cuu\n",
      "done\n"
     ]
    }
   ],
   "source": [
    "n = 100\n",
    "i = 1\n",
    "while True:\n",
    "    if i%12 == 0:\n",
    "        print(\"break cais cuu\")\n",
    "        break\n",
    "    else:\n",
    "        i += 1\n",
    "        continue\n",
    "    print(\"something\")\n",
    "print(\"done\")"
   ]
  },
  {
   "cell_type": "code",
   "execution_count": null,
   "id": "e56191ba-d8d3-464d-a41e-818eb435a715",
   "metadata": {},
   "outputs": [],
   "source": []
  }
 ],
 "metadata": {
  "kernelspec": {
   "display_name": "Python 3 (ipykernel)",
   "language": "python",
   "name": "python3"
  },
  "language_info": {
   "codemirror_mode": {
    "name": "ipython",
    "version": 3
   },
   "file_extension": ".py",
   "mimetype": "text/x-python",
   "name": "python",
   "nbconvert_exporter": "python",
   "pygments_lexer": "ipython3",
   "version": "3.11.7"
  }
 },
 "nbformat": 4,
 "nbformat_minor": 5
}
